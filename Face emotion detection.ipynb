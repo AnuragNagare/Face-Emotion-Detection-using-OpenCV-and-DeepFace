{
 "cells": [
  {
   "cell_type": "code",
   "execution_count": 1,
   "id": "cd257318",
   "metadata": {},
   "outputs": [
    {
     "name": "stderr",
     "output_type": "stream",
     "text": [
      "Action: emotion: 100%|███████████████████████████████████████████████████████████████████| 1/1 [00:00<00:00,  1.99it/s]\n"
     ]
    },
    {
     "name": "stdout",
     "output_type": "stream",
     "text": [
      "Emotions: {'angry': 4.110629729070051, 'disgust': 6.38226398690954e-07, 'fear': 0.0013264557191456352, 'happy': 11.848767062948172, 'sad': 48.242533102186506, 'surprise': 0.005033451025039764, 'neutral': 35.79171513269634}\n"
     ]
    }
   ],
   "source": [
    "import cv2\n",
    "from deepface import DeepFace\n",
    "\n",
    "# Load pre-trained Haar cascade for face detection\n",
    "face_cascade = cv2.CascadeClassifier(cv2.data.haarcascades + 'haarcascade_frontalface_default.xml')\n",
    "\n",
    "# Load the image\n",
    "image_path = \"F:/Photos/Editing/20200819012227_IMG_4394.JPG\"\n",
    "img = cv2.imread(image_path)\n",
    "\n",
    "# Convert the image to grayscale\n",
    "gray = cv2.cvtColor(img, cv2.COLOR_BGR2GRAY)\n",
    "\n",
    "# Detect faces in the image\n",
    "faces = face_cascade.detectMultiScale(gray, scaleFactor=1.1, minNeighbors=5, minSize=(30, 30))\n",
    "\n",
    "# Iterate through detected faces and predict emotions\n",
    "for (x, y, w, h) in faces:\n",
    "    # Extract face ROI (Region of Interest)\n",
    "    face_roi = gray[y:y + h, x:x + w]\n",
    "    \n",
    "    # Use DeepFace for emotion detection\n",
    "    result = DeepFace.analyze(img_path=image_path, actions=['emotion'])\n",
    "    \n",
    "    # Get the emotion\n",
    "    emotions = result[0]['emotion']\n",
    "    \n",
    "    # Display the emotion detected\n",
    "    print(\"Emotions:\", emotions)\n",
    "    \n",
    "    # Draw rectangle around the face\n",
    "    color = (255, 0, 0)  # BGR - Red\n",
    "    stroke = 2\n",
    "    cv2.rectangle(img, (x, y), (x + w, y + h), color, stroke)\n",
    "\n",
    "# Display the image with detected faces\n",
    "cv2.imshow('Emotion Detection', img)\n",
    "cv2.waitKey(0)\n",
    "cv2.destroyAllWindows()\n"
   ]
  },
  {
   "cell_type": "code",
   "execution_count": null,
   "id": "cbfcfbfb",
   "metadata": {},
   "outputs": [],
   "source": []
  }
 ],
 "metadata": {
  "kernelspec": {
   "display_name": "Python 3 (ipykernel)",
   "language": "python",
   "name": "python3"
  },
  "language_info": {
   "codemirror_mode": {
    "name": "ipython",
    "version": 3
   },
   "file_extension": ".py",
   "mimetype": "text/x-python",
   "name": "python",
   "nbconvert_exporter": "python",
   "pygments_lexer": "ipython3",
   "version": "3.11.5"
  }
 },
 "nbformat": 4,
 "nbformat_minor": 5
}
